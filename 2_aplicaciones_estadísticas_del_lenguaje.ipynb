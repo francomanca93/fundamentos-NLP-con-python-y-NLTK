{
  "nbformat": 4,
  "nbformat_minor": 0,
  "metadata": {
    "colab": {
      "name": "2.aplicaciones-estadísticas-del-lenguaje.ipynb",
      "provenance": [],
      "authorship_tag": "ABX9TyPvD5yQcBme3Z/0OQmGiTGe",
      "include_colab_link": true
    },
    "kernelspec": {
      "name": "python3",
      "display_name": "Python 3"
    },
    "language_info": {
      "name": "python"
    }
  },
  "cells": [
    {
      "cell_type": "markdown",
      "metadata": {
        "id": "view-in-github",
        "colab_type": "text"
      },
      "source": [
        "<a href=\"https://colab.research.google.com/github/francomanca93/fundamentos-NLP-con-python-y-NLTK/blob/main/2_aplicaciones_estad%C3%ADsticas_del_lenguaje.ipynb\" target=\"_parent\"><img src=\"https://colab.research.google.com/assets/colab-badge.svg\" alt=\"Open In Colab\"/></a>"
      ]
    },
    {
      "cell_type": "markdown",
      "metadata": {
        "id": "TOdz5No70bbi"
      },
      "source": [
        "# Aplicaciones | Estadísticas del lenguaje"
      ]
    },
    {
      "cell_type": "code",
      "metadata": {
        "id": "exWkQkBQtKUi"
      },
      "source": [
        "import nltk\n",
        "nltk.download('book')\n",
        "from nltk.book import *\n",
        "import matplotlib.pyplot as plt\n",
        "import numpy as np"
      ],
      "execution_count": null,
      "outputs": []
    },
    {
      "cell_type": "code",
      "metadata": {
        "colab": {
          "base_uri": "https://localhost:8080/"
        },
        "id": "ZlM6Ta-jtRbX",
        "outputId": "a835c5eb-5512-44a5-e270-1298609cd669"
      },
      "source": [
        "text1"
      ],
      "execution_count": null,
      "outputs": [
        {
          "output_type": "execute_result",
          "data": {
            "text/plain": [
              "<Text: Moby Dick by Herman Melville 1851>"
            ]
          },
          "metadata": {
            "tags": []
          },
          "execution_count": 2
        }
      ]
    },
    {
      "cell_type": "code",
      "metadata": {
        "colab": {
          "base_uri": "https://localhost:8080/"
        },
        "id": "d1W7J3oEtx_G",
        "outputId": "25ea8e8e-50bb-44f4-be95-a0ba68e1ee92"
      },
      "source": [
        "text1.tokens[:10]"
      ],
      "execution_count": null,
      "outputs": [
        {
          "output_type": "execute_result",
          "data": {
            "text/plain": [
              "['[',\n",
              " 'Moby',\n",
              " 'Dick',\n",
              " 'by',\n",
              " 'Herman',\n",
              " 'Melville',\n",
              " '1851',\n",
              " ']',\n",
              " 'ETYMOLOGY',\n",
              " '.']"
            ]
          },
          "metadata": {
            "tags": []
          },
          "execution_count": 3
        }
      ]
    },
    {
      "cell_type": "code",
      "metadata": {
        "colab": {
          "base_uri": "https://localhost:8080/"
        },
        "id": "TDm5FCISt5h_",
        "outputId": "cf15cb42-51bf-4b49-9334-25fe43d8481f"
      },
      "source": [
        "len(text1)"
      ],
      "execution_count": null,
      "outputs": [
        {
          "output_type": "execute_result",
          "data": {
            "text/plain": [
              "260819"
            ]
          },
          "metadata": {
            "tags": []
          },
          "execution_count": 4
        }
      ]
    },
    {
      "cell_type": "markdown",
      "metadata": {
        "id": "wTBI7XLIuc2-"
      },
      "source": [
        "## Medida de riqueza lexica en un texto: \n",
        "\n",
        "Calcular algunas metricas sobre el texto\n",
        "\n",
        "Cuando tenemos un texto, es normal que algunas palabras se repitan. Queremos definir cuantas palabras unicas se utilizaron respecto al total de palabras del texto. Cuanto mas grande sea nuestra riqueza lexica, mas palabras diferentes utilizo nuestro autor.\n",
        "\n",
        "$$ R_l = \\frac{\\text{total de palabras únicas}}{\\text{total de palabras}} = \\frac{\\text{longitud del vocabulario}}{\\text{longitud del texto}}$$ "
      ]
    },
    {
      "cell_type": "markdown",
      "metadata": {
        "id": "6PA3rZFvzSFL"
      },
      "source": [
        "Primero realizamos la construcción de un vocabulario (identificamos las palabras unicas que hay en el libro)\n",
        "\n",
        "Utilizamos la funcion [set()](https://docs.python.org/2/library/sets.html), esta toma la lista de tokens y elimina repetidos, dejando una lista de palabras, con una estructura de datos sort. Para convertirlo a otra estructura usamos **sorted()**. Con esta funcion ordenamos alfabeticamente nuestro set y lo convertimos en lista.\n",
        "\n",
        "\n"
      ]
    },
    {
      "cell_type": "code",
      "metadata": {
        "colab": {
          "base_uri": "https://localhost:8080/"
        },
        "id": "Ac2rIiUCu65N",
        "outputId": "df891e3a-a116-4b4f-b889-fc98856d4d60"
      },
      "source": [
        "vocabulario = sorted(set(text1))\n",
        "print(vocabulario[1000:1050])"
      ],
      "execution_count": null,
      "outputs": [
        {
          "output_type": "stream",
          "text": [
            "['Crew', 'Crish', 'Crockett', 'Cross', 'Crossed', 'Crossing', 'Crotch', 'Crowding', 'Crown', 'Crozetts', 'Cruelty', 'Cruising', 'Cruppered', 'Crusaders', 'Crushed', 'Crying', 'Cuba', 'Curious', 'Curse', 'Cursed', 'Curses', 'Cussed', 'Customs', 'Cut', 'Cutter', 'Cutting', 'Cuvier', 'Cyclades', 'Czar', 'D', 'DAGGOO', 'DAM', 'DANCE', 'DANCING', 'DANIEL', 'DANISH', 'DARKENS', 'DARWIN', 'DAVENANT', 'DEAD', 'DEATH', 'DEBELL', 'DECK', 'DEL', 'DESTROYED', 'DEVIL', 'DICTIONARY', 'DID', 'DIGNITY', 'DISCOVERS']\n"
          ],
          "name": "stdout"
        }
      ]
    },
    {
      "cell_type": "code",
      "metadata": {
        "colab": {
          "base_uri": "https://localhost:8080/"
        },
        "id": "3wAxnvY2vYWF",
        "outputId": "968fe179-4edb-45fb-ff01-f340a19da5cb"
      },
      "source": [
        "rl = len(vocabulario)/len(text1)\n",
        "rl"
      ],
      "execution_count": null,
      "outputs": [
        {
          "output_type": "execute_result",
          "data": {
            "text/plain": [
              "0.07406285585022564"
            ]
          },
          "metadata": {
            "tags": []
          },
          "execution_count": 6
        }
      ]
    },
    {
      "cell_type": "markdown",
      "metadata": {
        "id": "k29I_Zty0Lhv"
      },
      "source": [
        "Podemos definir funciones en python para las medidas léxicas:"
      ]
    },
    {
      "cell_type": "code",
      "metadata": {
        "id": "Tgo8qrb2wA03"
      },
      "source": [
        "def riqueza_lexica(texto):\n",
        "  vocabulario = sorted(set(texto))\n",
        "  return len(vocabulario)/len(texto)"
      ],
      "execution_count": null,
      "outputs": []
    },
    {
      "cell_type": "code",
      "metadata": {
        "colab": {
          "base_uri": "https://localhost:8080/"
        },
        "id": "M0X0eVe4wZnl",
        "outputId": "acbe452e-4653-4484-e5e0-f294f9aa13b2"
      },
      "source": [
        "riqueza_lexica(text1)"
      ],
      "execution_count": null,
      "outputs": [
        {
          "output_type": "execute_result",
          "data": {
            "text/plain": [
              "0.07406285585022564"
            ]
          },
          "metadata": {
            "tags": []
          },
          "execution_count": 8
        }
      ]
    },
    {
      "cell_type": "code",
      "metadata": {
        "id": "mD-CPruvwcoe"
      },
      "source": [
        "def porcentaje_palabra(palabra, texto):\n",
        "  porcentaje_palabra = 100 * texto.count(palabra)/len(texto)\n",
        "  return porcentaje_palabra"
      ],
      "execution_count": null,
      "outputs": []
    },
    {
      "cell_type": "code",
      "metadata": {
        "colab": {
          "base_uri": "https://localhost:8080/"
        },
        "id": "_kyWAic5w5NY",
        "outputId": "3f6e3d86-4d59-43a3-b3f2-7547f9fa43f0"
      },
      "source": [
        "porcentaje_palabra('monster', text1)"
      ],
      "execution_count": null,
      "outputs": [
        {
          "output_type": "execute_result",
          "data": {
            "text/plain": [
              "0.018786974875296663"
            ]
          },
          "metadata": {
            "tags": []
          },
          "execution_count": 10
        }
      ]
    },
    {
      "cell_type": "code",
      "metadata": {
        "colab": {
          "base_uri": "https://localhost:8080/"
        },
        "id": "pCN2_I47w9CL",
        "outputId": "3d38085d-2735-4def-9e92-71ebf05d122f"
      },
      "source": [
        "text1.count('monster')"
      ],
      "execution_count": null,
      "outputs": [
        {
          "output_type": "execute_result",
          "data": {
            "text/plain": [
              "49"
            ]
          },
          "metadata": {
            "tags": []
          },
          "execution_count": 11
        }
      ]
    },
    {
      "cell_type": "markdown",
      "metadata": {
        "id": "F_iNh6Q6jJ6B"
      },
      "source": [
        "## Estadistica del Lenguaje\n",
        "\n",
        "Los cálculos estadísticos más simples que se pueden efectuar sobre un texto o un corpus son los relacionados con frecuencia de aparición de palabras.\n",
        "\n",
        "* Podemos construir un diccionario en Python donde las llaves sean las palabras y los valores sean las frecuencias de ocurrencias de esas palabras.\n",
        "\n",
        "* ejemplo `dic = {'monster': 49 ,  'boat': 54,  ...}`"
      ]
    },
    {
      "cell_type": "code",
      "metadata": {
        "id": "jNmoe7TSjk4F"
      },
      "source": [
        "# Realizar un for básico, computacionalmete es muy pesado si tenemos muchos tokens\n",
        "dic = {}\n",
        "for palabra in set(text1):\n",
        "  dic[palabra] = text1.count(palabra)\n",
        "dic"
      ],
      "execution_count": null,
      "outputs": []
    },
    {
      "cell_type": "markdown",
      "metadata": {
        "id": "ZcHEGDCwduQ1"
      },
      "source": [
        "Utilizamos el método FreqDist de NLTK. Este procesa un objeto de texto de una forma diferente a la que lo haría un for, ya que estaríamos hablando de un Big **On ** 2**, osea tiene **crecimiento polinominial**, estos son algoritmos que deben usarse cuando el input o la entrada de datos es pequeña."
      ]
    },
    {
      "cell_type": "code",
      "metadata": {
        "colab": {
          "base_uri": "https://localhost:8080/"
        },
        "id": "ZTqeG3LIjvvC",
        "outputId": "6656031c-ddc4-4218-e8d8-810ad1623c1e"
      },
      "source": [
        "fdist = FreqDist(text1)\n",
        "fdist.most_common(20)"
      ],
      "execution_count": null,
      "outputs": [
        {
          "output_type": "execute_result",
          "data": {
            "text/plain": [
              "[(',', 18713),\n",
              " ('the', 13721),\n",
              " ('.', 6862),\n",
              " ('of', 6536),\n",
              " ('and', 6024),\n",
              " ('a', 4569),\n",
              " ('to', 4542),\n",
              " (';', 4072),\n",
              " ('in', 3916),\n",
              " ('that', 2982),\n",
              " (\"'\", 2684),\n",
              " ('-', 2552),\n",
              " ('his', 2459),\n",
              " ('it', 2209),\n",
              " ('I', 2124),\n",
              " ('s', 1739),\n",
              " ('is', 1695),\n",
              " ('he', 1661),\n",
              " ('with', 1659),\n",
              " ('was', 1632)]"
            ]
          },
          "metadata": {
            "tags": []
          },
          "execution_count": 13
        }
      ]
    },
    {
      "cell_type": "markdown",
      "metadata": {
        "id": "wSXkKpGikw3Z"
      },
      "source": [
        "Con el método `most_common()` obtenemos las palabras que mas frecuencia tienen en el texto. La tokenización incluyo palabras simples e inclusive signos de puntuación, y por la carácteristica de nuestro lenguaje, estos tipos de tokens son los que mas se utilizan, aunque no de información relevante sobre lo que se este diciendo/escrbiendo.\n",
        "\n",
        "Los tokens mas frecuentes no son las palabras las interesante para obtener información linguistica o gramatical de lo que el texto tiene."
      ]
    },
    {
      "cell_type": "code",
      "metadata": {
        "colab": {
          "base_uri": "https://localhost:8080/",
          "height": 291
        },
        "id": "O8yP3C_mkh_m",
        "outputId": "160f479d-18d3-49f1-cc8a-325a553a3d77"
      },
      "source": [
        "fdist.plot(20)"
      ],
      "execution_count": null,
      "outputs": [
        {
          "output_type": "display_data",
          "data": {
            "image/png": "[encoded data removed]",
            "text/plain": [
              "<Figure size 432x288 with 1 Axes>"
            ]
          },
          "metadata": {
            "tags": [],
            "needs_background": "light"
          }
        }
      ]
    },
    {
      "cell_type": "code",
      "metadata": {
        "colab": {
          "base_uri": "https://localhost:8080/"
        },
        "id": "F2Ra7r3flSMA",
        "outputId": "07d7d375-c7e0-437e-fa88-6b1530bbac82"
      },
      "source": [
        "fdist['monster']"
      ],
      "execution_count": null,
      "outputs": [
        {
          "output_type": "execute_result",
          "data": {
            "text/plain": [
              "49"
            ]
          },
          "metadata": {
            "tags": []
          },
          "execution_count": 15
        }
      ]
    },
    {
      "cell_type": "markdown",
      "metadata": {
        "id": "U9cHXJk0fzbx"
      },
      "source": [
        "Analizando este tipo de datos se encuentran aspectos relacionados con los sistemas complejos. Un ejemplo es que tanto en el libro de Moby Dick como en cualquier obra ( un periódico, la biblia, etc.) la distribución de palabras sigue una ley de potencias (o power law). Una explicación a este fenómeno se da con la criticalidad auto-organizada. Para verificar si se cumple esta ley de potencias se debe verifica una tendencia linear graficando en escala logarítmica ambos ejes (un gráfico log-log). En el caso del libro de Moby Dick tenemos:"
      ]
    },
    {
      "cell_type": "code",
      "metadata": {
        "colab": {
          "base_uri": "https://localhost:8080/",
          "height": 286
        },
        "id": "dMg0gjUklbEs",
        "outputId": "78f581a4-8b4d-4768-df00-512bfaaffb69"
      },
      "source": [
        "a=list(fdist.values())\n",
        "a=np.array(a)\n",
        "a=np.sort(a)\n",
        "a=a[::-1]\n",
        "plt.yscale('log')\n",
        "plt.xscale('log')\n",
        "plt.plot(a)"
      ],
      "execution_count": null,
      "outputs": [
        {
          "output_type": "execute_result",
          "data": {
            "text/plain": [
              "[<matplotlib.lines.Line2D at 0x7fd1f6f7f210>]"
            ]
          },
          "metadata": {
            "tags": []
          },
          "execution_count": 16
        },
        {
          "output_type": "display_data",
          "data": {
            "image/png": "[encoded data removed]",
            "text/plain": [
              "<Figure size 432x288 with 1 Axes>"
            ]
          },
          "metadata": {
            "tags": [],
            "needs_background": "light"
          }
        }
      ]
    },
    {
      "cell_type": "markdown",
      "metadata": {
        "id": "s7nAUuAIf6FA"
      },
      "source": [
        "Esto se conoce como la ley de Zipf. En el libro “How nature works” de Per Bak "
      ]
    },
    {
      "cell_type": "markdown",
      "metadata": {
        "id": "wDW5DCFhgXTu"
      },
      "source": [
        "## Refinamiento y visualización de cuerpos de texto"
      ]
    },
    {
      "cell_type": "markdown",
      "metadata": {
        "id": "c7zXAUJ1moSS"
      },
      "source": [
        "Distribuciones sobre contenido con filtro-fino\n",
        "\n",
        "* En la sección anterior vimos que los tokens más frecuentes en un texto no son necesariamente las palabras que mas informacion nos arrojan sobre el contenido del mismo. \n",
        "* Por ello, es mejor filtrar y construir distribuciones de frecuencia que no consideren signos de puntuación o caracteres especiales"
      ]
    },
    {
      "cell_type": "code",
      "metadata": {
        "colab": {
          "base_uri": "https://localhost:8080/"
        },
        "id": "oZ6jUOxLdp1M",
        "outputId": "e03daf6a-29dd-44c7-b1d3-efc8fed66069"
      },
      "source": [
        "long_words = [palabra for palabra in text1 if len(palabra) > 5]\n",
        "vocabulario_filtrado = sorted(set(long_words))\n",
        "vocabulario_filtrado[:10]"
      ],
      "execution_count": null,
      "outputs": [
        {
          "output_type": "execute_result",
          "data": {
            "text/plain": [
              "['ACCOUNT',\n",
              " 'ADDITIONAL',\n",
              " 'ADVANCING',\n",
              " 'ADVENTURES',\n",
              " 'AFFGHANISTAN',\n",
              " 'AFRICA',\n",
              " 'AGAINST',\n",
              " 'ALFRED',\n",
              " 'ALGERINE',\n",
              " 'AMERICA']"
            ]
          },
          "metadata": {
            "tags": []
          },
          "execution_count": 18
        }
      ]
    },
    {
      "cell_type": "markdown",
      "metadata": {
        "id": "h5Ay-vTanwvk"
      },
      "source": [
        "Podemos ahora construir una lista de tuplas, basados en los conteos ya pre-calculados de la función `FreqDist`, así:\n",
        "\n",
        "`fdist_filtrado = [('account', 2), ('additional', 32), ('advancing', 5), ...]`\n",
        "\n",
        "Luego podemos convertir el objeto creado a formato de `np.array`de **Numpy** para poder hacer un sort por palabras mas frecuentes.\n",
        "\n",
        "`fdist_filtrado = np.array(fdist_filtrado, *args)`\n",
        "\n",
        "`np.sort(fdist_filtrado, *args) = [('account', 2), ('advancing', 5), ('additional', 32), ...]`"
      ]
    },
    {
      "cell_type": "code",
      "metadata": {
        "id": "XqF5DjSfnEXZ"
      },
      "source": [
        "palabras_interesantes = [(palabra, fdist[palabra]) for palabra in set(text1) if len(palabra)>5 and fdist[palabra] > 10]\n",
        "dtypes = [('word', 'S10'), ('frequency', int)]\n",
        "palabras_interesantes = np.array(palabras_interesantes, dtype=dtypes)"
      ],
      "execution_count": null,
      "outputs": []
    },
    {
      "cell_type": "code",
      "metadata": {
        "id": "SdCukHWGoSCb"
      },
      "source": [
        "palabras_interesantes = np.sort(palabras_interesantes, order='frequency')\n",
        "palabras_interesantes"
      ],
      "execution_count": null,
      "outputs": []
    },
    {
      "cell_type": "code",
      "metadata": {
        "colab": {
          "base_uri": "https://localhost:8080/"
        },
        "id": "j4EaJw_vqsgZ",
        "outputId": "68d4942d-bddb-4560-e5cb-a6e294977393"
      },
      "source": [
        "palabras_interesantes[-20:]"
      ],
      "execution_count": null,
      "outputs": [
        {
          "output_type": "execute_result",
          "data": {
            "text/plain": [
              "array([(b'between', 117), (b'something', 119), (b'against', 132),\n",
              "       (b'things', 132), (b'thought', 149), (b'CHAPTER', 150),\n",
              "       (b'without', 154), (b'Pequod', 172), (b'should', 181),\n",
              "       (b'almost', 186), (b'Starbuck', 196), (b'himself', 203),\n",
              "       (b'Captain', 215), (b'through', 227), (b'whales', 237),\n",
              "       (b'little', 247), (b'Queequeg', 252), (b'seemed', 283),\n",
              "       (b'before', 293), (b'though', 335)],\n",
              "      dtype=[('word', 'S10'), ('frequency', '<i8')])"
            ]
          },
          "metadata": {
            "tags": []
          },
          "execution_count": 27
        }
      ]
    },
    {
      "cell_type": "code",
      "metadata": {
        "colab": {
          "base_uri": "https://localhost:8080/",
          "height": 375
        },
        "id": "Z4pVaD9lp_30",
        "outputId": "874bedae-922d-4c2a-9af3-1151a81132af"
      },
      "source": [
        "top_words = 20\n",
        "x = np.arange(len(palabras_interesantes[-top_words:]))\n",
        "y = [freq[1] for freq in palabras_interesantes[-top_words:]]\n",
        "plt.figure(figsize=(10, 5))\n",
        "plt.plot(x, y)\n",
        "plt.xticks(x, [str(freq[0]) for freq in palabras_interesantes[-top_words:]], rotation='vertical')\n",
        "plt.grid(True)\n",
        "plt.show()"
      ],
      "execution_count": null,
      "outputs": [
        {
          "output_type": "display_data",
          "data": {
            "image/png": "[encoded data removed]",
            "text/plain": [
              "<Figure size 720x360 with 1 Axes>"
            ]
          },
          "metadata": {
            "tags": [],
            "needs_background": "light"
          }
        }
      ]
    },
    {
      "cell_type": "markdown",
      "metadata": {
        "id": "FVjODUUuwYcp"
      },
      "source": [
        "Refinemos lo anterior, mejoremos nuestro código y eliminemos las stopwords. \n",
        "\n",
        "stopwords: Son palabras vacías, es decir, palabras sin significado como artículos, pronombres, preposiciones, etc."
      ]
    },
    {
      "cell_type": "code",
      "metadata": {
        "id": "lD7--aayq0OV"
      },
      "source": [
        "import re\n",
        "from nltk.corpus import stopwords\n",
        "from collections import Counter\n",
        "\n",
        "nltk.download('stopwords')\n",
        "stop_words = stopwords.words('english')\n",
        "\n",
        "%matplotlib inline"
      ],
      "execution_count": null,
      "outputs": []
    },
    {
      "cell_type": "code",
      "metadata": {
        "id": "uvDCA8swu62T"
      },
      "source": [
        "def fdist(corpus):\n",
        "    # patron para eliminar \n",
        "    pattern = r'\\w+(?:-\\w+)*'\n",
        "    search = re.compile(pattern)\n",
        "\n",
        "    lower = [word.lower() for word in corpus]\n",
        "    counts = Counter(lower)  # https://docs.hektorprofe.net/python/modulos-y-paquetes/modulo-collections/\n",
        "\n",
        "    for word, count in counts.items():\n",
        "        if not search.search(word):\n",
        "            continue\n",
        "\n",
        "        if word not in stop_words:\n",
        "            yield word, count\n"
      ],
      "execution_count": null,
      "outputs": []
    },
    {
      "cell_type": "code",
      "metadata": {
        "id": "6gN34AhVvAqX"
      },
      "source": [
        "dtypes = [('word', 'U15'), ('frequency', int)]\n",
        "words = np.array( list(fdist(text1)), dtype=dtypes )\n",
        "words = np.sort(words, order='frequency')[::-1]"
      ],
      "execution_count": null,
      "outputs": []
    },
    {
      "cell_type": "code",
      "metadata": {
        "colab": {
          "base_uri": "https://localhost:8080/",
          "height": 347
        },
        "id": "wftvYcyRvDip",
        "outputId": "d2927ae2-2282-4544-b52c-bd3dd922fcce"
      },
      "source": [
        "n_words = 21\n",
        "x, y = zip(*words[:n_words])\n",
        "\n",
        "plt.figure(figsize=(12,5))\n",
        "\n",
        "plt.plot(x, y)\n",
        "plt.xticks(x, rotation=60)\n",
        "\n",
        "plt.show()\n"
      ],
      "execution_count": null,
      "outputs": [
        {
          "output_type": "display_data",
          "data": {
            "image/png": "[encoded data removed]",
            "text/plain": [
              "<Figure size 864x360 with 1 Axes>"
            ]
          },
          "metadata": {
            "tags": [],
            "needs_background": "light"
          }
        }
      ]
    },
    {
      "cell_type": "code",
      "metadata": {
        "id": "befp_rKHvHfR"
      },
      "source": [
        ""
      ],
      "execution_count": null,
      "outputs": []
    }
  ]
}